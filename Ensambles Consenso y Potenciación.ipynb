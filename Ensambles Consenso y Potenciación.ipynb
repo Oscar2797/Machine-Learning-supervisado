{
 "cells": [
  {
   "cell_type": "code",
   "execution_count": 88,
   "id": "f8b7f2b4-6d6e-42fb-b08d-dc8399efa5c9",
   "metadata": {},
   "outputs": [],
   "source": [
    "import pandas as pd\n",
    "import numpy as np\n",
    "from sklearn.tree import DecisionTreeClassifier\n",
    "from sklearn.model_selection import train_test_split\n",
    "from sklearn import metrics\n",
    "import warnings\n",
    "warnings.filterwarnings (\"ignore\")\n",
    "\n",
    "import matplotlib.pyplot as plt\n",
    "\n",
    "import os\n",
    "os.chdir(\"C:/Users/odela/Downloads\")"
   ]
  },
  {
   "cell_type": "code",
   "execution_count": 209,
   "id": "e8492148-7a45-4d70-b360-c6e8ce285abd",
   "metadata": {},
   "outputs": [
    {
     "data": {
      "text/html": [
       "<div>\n",
       "<style scoped>\n",
       "    .dataframe tbody tr th:only-of-type {\n",
       "        vertical-align: middle;\n",
       "    }\n",
       "\n",
       "    .dataframe tbody tr th {\n",
       "        vertical-align: top;\n",
       "    }\n",
       "\n",
       "    .dataframe thead th {\n",
       "        text-align: right;\n",
       "    }\n",
       "</style>\n",
       "<table border=\"1\" class=\"dataframe\">\n",
       "  <thead>\n",
       "    <tr style=\"text-align: right;\">\n",
       "      <th></th>\n",
       "      <th>Age</th>\n",
       "      <th>Sex</th>\n",
       "      <th>BP</th>\n",
       "      <th>Cholesterol</th>\n",
       "      <th>Na_to_K</th>\n",
       "      <th>Drug</th>\n",
       "    </tr>\n",
       "  </thead>\n",
       "  <tbody>\n",
       "    <tr>\n",
       "      <th>0</th>\n",
       "      <td>23</td>\n",
       "      <td>F</td>\n",
       "      <td>HIGH</td>\n",
       "      <td>HIGH</td>\n",
       "      <td>25.355</td>\n",
       "      <td>drugY</td>\n",
       "    </tr>\n",
       "    <tr>\n",
       "      <th>1</th>\n",
       "      <td>47</td>\n",
       "      <td>M</td>\n",
       "      <td>LOW</td>\n",
       "      <td>HIGH</td>\n",
       "      <td>13.093</td>\n",
       "      <td>drugC</td>\n",
       "    </tr>\n",
       "    <tr>\n",
       "      <th>2</th>\n",
       "      <td>47</td>\n",
       "      <td>M</td>\n",
       "      <td>LOW</td>\n",
       "      <td>HIGH</td>\n",
       "      <td>10.114</td>\n",
       "      <td>drugC</td>\n",
       "    </tr>\n",
       "    <tr>\n",
       "      <th>3</th>\n",
       "      <td>28</td>\n",
       "      <td>F</td>\n",
       "      <td>NORMAL</td>\n",
       "      <td>HIGH</td>\n",
       "      <td>7.798</td>\n",
       "      <td>drugX</td>\n",
       "    </tr>\n",
       "    <tr>\n",
       "      <th>4</th>\n",
       "      <td>61</td>\n",
       "      <td>F</td>\n",
       "      <td>LOW</td>\n",
       "      <td>HIGH</td>\n",
       "      <td>18.043</td>\n",
       "      <td>drugY</td>\n",
       "    </tr>\n",
       "  </tbody>\n",
       "</table>\n",
       "</div>"
      ],
      "text/plain": [
       "   Age Sex      BP Cholesterol  Na_to_K   Drug\n",
       "0   23   F    HIGH        HIGH   25.355  drugY\n",
       "1   47   M     LOW        HIGH   13.093  drugC\n",
       "2   47   M     LOW        HIGH   10.114  drugC\n",
       "3   28   F  NORMAL        HIGH    7.798  drugX\n",
       "4   61   F     LOW        HIGH   18.043  drugY"
      ]
     },
     "execution_count": 209,
     "metadata": {},
     "output_type": "execute_result"
    }
   ],
   "source": [
    "drugs=pd.read_csv(\"drugs (1).csv\")\n",
    "drugs.head()"
   ]
  },
  {
   "cell_type": "code",
   "execution_count": 116,
   "id": "dc81b6f3-9794-4086-9675-53cc97da2758",
   "metadata": {},
   "outputs": [],
   "source": [
    "feature_cols= [\"Age\",\"Sex\",\"BP\", \"Cholesterol\", \"Na_to_K\"]\n",
    "x= drugs[feature_cols].values\n",
    "y= drugs.Drug"
   ]
  },
  {
   "cell_type": "code",
   "execution_count": 118,
   "id": "e3afb6c3-8450-4f43-9f49-9a43dd740ce1",
   "metadata": {},
   "outputs": [
    {
     "data": {
      "text/plain": [
       "array(['drugY', 'drugC', 'drugX', 'drugA', 'drugB'], dtype=object)"
      ]
     },
     "execution_count": 118,
     "metadata": {},
     "output_type": "execute_result"
    }
   ],
   "source": [
    "y.unique()"
   ]
  },
  {
   "cell_type": "code",
   "execution_count": 120,
   "id": "5262cafe-967a-4517-84df-9c78783a2e86",
   "metadata": {},
   "outputs": [],
   "source": [
    "from sklearn import preprocessing\n",
    "\n",
    "Cod_Sex= preprocessing.LabelEncoder()\n",
    "Cod_Sex.fit([\"M\", \"F\"])\n",
    "x[:,1]= Cod_Sex.transform(x[:,1])\n",
    "\n",
    "Cod_BP= preprocessing.LabelEncoder()\n",
    "Cod_BP.fit([\"LOW\",\"NORMAL\",\"HIGH\"])\n",
    "x[:,2]= Cod_BP.transform(x[:,2])\n",
    "\n",
    "Cod_Cholesterol= preprocessing.LabelEncoder()\n",
    "Cod_Cholesterol.fit([\"NORMAL\", \"HIGH\"])\n",
    "x[:,3]= Cod_Cholesterol.transform(x[:,3])"
   ]
  },
  {
   "cell_type": "code",
   "execution_count": 122,
   "id": "07439eca-7e05-4cd6-965c-5f8ccc2b48da",
   "metadata": {},
   "outputs": [
    {
     "data": {
      "text/plain": [
       "array([[23, 0, 0, 0, 25.355],\n",
       "       [47, 1, 1, 0, 13.093],\n",
       "       [47, 1, 1, 0, 10.114],\n",
       "       [28, 0, 2, 0, 7.798],\n",
       "       [61, 0, 1, 0, 18.043]], dtype=object)"
      ]
     },
     "execution_count": 122,
     "metadata": {},
     "output_type": "execute_result"
    }
   ],
   "source": [
    "x[0:5]"
   ]
  },
  {
   "cell_type": "code",
   "execution_count": 124,
   "id": "c25fd16e-5bf7-4843-87c5-87a7a83d7b17",
   "metadata": {},
   "outputs": [],
   "source": [
    "from sklearn.ensemble import RandomForestClassifier"
   ]
  },
  {
   "cell_type": "code",
   "execution_count": 126,
   "id": "9140d2fa-2a34-4bf5-9065-b486ae861552",
   "metadata": {},
   "outputs": [],
   "source": [
    "x_train, x_test, y_train, y_test= train_test_split(x,y, test_size=.25, random_state=1)"
   ]
  },
  {
   "cell_type": "code",
   "execution_count": 142,
   "id": "b75681f3-09d4-446a-91c8-30d27b82dc46",
   "metadata": {},
   "outputs": [],
   "source": [
    "def plot_feature_importance(df,model):\n",
    "    n_features= feature_cols\n",
    "    plt.bar(n_features, model.feature_importances_, align=\"center\") \n",
    "    plt.xlabel( \"Importancia de las variables\")\n",
    "    plt.ylabel(\"Características\")\n",
    "    plt.show()"
   ]
  },
  {
   "cell_type": "markdown",
   "id": "aaf5086c-314a-45de-a2d7-74a97d5819b6",
   "metadata": {},
   "source": [
    "# Random Forest"
   ]
  },
  {
   "cell_type": "code",
   "execution_count": 134,
   "id": "cb30c958-cc54-4ee5-a3a4-8165f22b4c18",
   "metadata": {},
   "outputs": [
    {
     "data": {
      "text/plain": [
       "1.0"
      ]
     },
     "execution_count": 134,
     "metadata": {},
     "output_type": "execute_result"
    }
   ],
   "source": [
    "rf= RandomForestClassifier(n_estimators=100, random_state=1)\n",
    "rf.fit(x_train, y_train)\n",
    "rf.score(x_test,y_test)"
   ]
  },
  {
   "cell_type": "code",
   "execution_count": 140,
   "id": "4577681d-a95b-4b07-9c72-343147a37846",
   "metadata": {},
   "outputs": [
    {
     "name": "stdout",
     "output_type": "stream",
     "text": [
      "              precision    recall  f1-score   support\n",
      "\n",
      "       drugA       1.00      1.00      1.00         4\n",
      "       drugB       1.00      1.00      1.00         5\n",
      "       drugC       1.00      1.00      1.00         4\n",
      "       drugX       1.00      1.00      1.00        16\n",
      "       drugY       1.00      1.00      1.00        21\n",
      "\n",
      "    accuracy                           1.00        50\n",
      "   macro avg       1.00      1.00      1.00        50\n",
      "weighted avg       1.00      1.00      1.00        50\n",
      "\n"
     ]
    }
   ],
   "source": [
    "# Estadísticas de desempeño generales\n",
    "\n",
    "from sklearn.metrics import  classification_report\n",
    "y_pred= rf.predict(x_test)\n",
    "print(classification_report(y_test, y_pred))"
   ]
  },
  {
   "cell_type": "code",
   "execution_count": 144,
   "id": "f415e941-c4bc-4649-8a7f-0e48ceefdb24",
   "metadata": {},
   "outputs": [
    {
     "data": {
      "image/png": "[encoded data removed]",
      "text/plain": [
       "<Figure size 640x480 with 1 Axes>"
      ]
     },
     "metadata": {},
     "output_type": "display_data"
    }
   ],
   "source": [
    "plot_feature_importance(drugs, rf)"
   ]
  },
  {
   "cell_type": "markdown",
   "id": "fa79e362-b263-4af2-bf3b-0e1d76a62ea2",
   "metadata": {},
   "source": [
    "# Gradient boosted trees"
   ]
  },
  {
   "cell_type": "code",
   "execution_count": 147,
   "id": "10fd7fba-2928-48de-a588-75022023330a",
   "metadata": {},
   "outputs": [],
   "source": [
    "from sklearn.ensemble import GradientBoostingClassifier"
   ]
  },
  {
   "cell_type": "code",
   "execution_count": 153,
   "id": "127c105c-fcb8-40d6-80ea-47d5d4672c71",
   "metadata": {},
   "outputs": [
    {
     "data": {
      "text/plain": [
       "1.0"
      ]
     },
     "execution_count": 153,
     "metadata": {},
     "output_type": "execute_result"
    }
   ],
   "source": [
    "gbt= GradientBoostingClassifier(n_estimators=100, random_state=1, max_depth=5)\n",
    "gbt.fit(x_train, y_train)\n",
    "gbt.score(x_test, y_test)"
   ]
  },
  {
   "cell_type": "code",
   "execution_count": 155,
   "id": "5c42d90e-af55-4010-9d0b-9246165eacea",
   "metadata": {},
   "outputs": [
    {
     "name": "stdout",
     "output_type": "stream",
     "text": [
      "              precision    recall  f1-score   support\n",
      "\n",
      "       drugA       1.00      1.00      1.00         4\n",
      "       drugB       1.00      1.00      1.00         5\n",
      "       drugC       1.00      1.00      1.00         4\n",
      "       drugX       1.00      1.00      1.00        16\n",
      "       drugY       1.00      1.00      1.00        21\n",
      "\n",
      "    accuracy                           1.00        50\n",
      "   macro avg       1.00      1.00      1.00        50\n",
      "weighted avg       1.00      1.00      1.00        50\n",
      "\n"
     ]
    }
   ],
   "source": [
    "y_pred2= gbt.predict(x_test)\n",
    "print(classification_report(y_test, y_pred2))"
   ]
  },
  {
   "cell_type": "code",
   "execution_count": 157,
   "id": "51f7390b-345e-4c95-8518-5868584bbb4d",
   "metadata": {},
   "outputs": [
    {
     "data": {
      "image/png": "[encoded data removed]",
      "text/plain": [
       "<Figure size 640x480 with 1 Axes>"
      ]
     },
     "metadata": {},
     "output_type": "display_data"
    }
   ],
   "source": [
    "plot_feature_importance(drugs, gbt)"
   ]
  },
  {
   "cell_type": "markdown",
   "id": "057d756b-711b-4008-a3f2-26b8cb407315",
   "metadata": {},
   "source": [
    "# AdaBoost"
   ]
  },
  {
   "cell_type": "code",
   "execution_count": 160,
   "id": "4ca88b01-503b-43f1-baa1-0e23296cafbf",
   "metadata": {},
   "outputs": [],
   "source": [
    "from sklearn.ensemble import AdaBoostClassifier"
   ]
  },
  {
   "cell_type": "code",
   "execution_count": 195,
   "id": "81451ca2-4e76-45d6-b3e8-0d7d3bac5bff",
   "metadata": {},
   "outputs": [
    {
     "data": {
      "text/plain": [
       "0.84"
      ]
     },
     "execution_count": 195,
     "metadata": {},
     "output_type": "execute_result"
    }
   ],
   "source": [
    "ab= AdaBoostClassifier(n_estimators=100, learning_rate=1)\n",
    "ab.fit(x_test,y_test)\n",
    "ab.score( x_test, y_test)"
   ]
  },
  {
   "cell_type": "code",
   "execution_count": 197,
   "id": "8db3a09f-a74e-4625-b535-02aa1de2db2c",
   "metadata": {},
   "outputs": [
    {
     "name": "stdout",
     "output_type": "stream",
     "text": [
      "              precision    recall  f1-score   support\n",
      "\n",
      "       drugA       0.00      0.00      0.00         4\n",
      "       drugB       0.56      1.00      0.71         5\n",
      "       drugC       0.00      0.00      0.00         4\n",
      "       drugX       0.80      1.00      0.89        16\n",
      "       drugY       1.00      1.00      1.00        21\n",
      "\n",
      "    accuracy                           0.84        50\n",
      "   macro avg       0.47      0.60      0.52        50\n",
      "weighted avg       0.73      0.84      0.78        50\n",
      "\n"
     ]
    }
   ],
   "source": [
    "y_pred3= ab.predict(x_test)\n",
    "print(classification_report(y_test, y_pred3))"
   ]
  },
  {
   "cell_type": "code",
   "execution_count": 170,
   "id": "b00a6a22-35d1-4150-aac2-d6a4631e33ef",
   "metadata": {},
   "outputs": [
    {
     "data": {
      "image/png": "[encoded data removed]",
      "text/plain": [
       "<Figure size 640x480 with 1 Axes>"
      ]
     },
     "metadata": {},
     "output_type": "display_data"
    }
   ],
   "source": [
    "plot_feature_importance(drugs, ab)"
   ]
  },
  {
   "cell_type": "markdown",
   "id": "d18801ea-1811-43ff-a6ca-81dbd3a910b5",
   "metadata": {},
   "source": [
    "# Ada Boost SVM"
   ]
  },
  {
   "cell_type": "code",
   "execution_count": 199,
   "id": "6b9217b4-c425-4f89-9fa6-cc3b9d682e64",
   "metadata": {},
   "outputs": [],
   "source": [
    "from sklearn.svm import SVC\n",
    "svc= SVC(probability=True, kernel= \"linear\")"
   ]
  },
  {
   "cell_type": "code",
   "execution_count": 203,
   "id": "13f98208-837e-4897-8bc4-941efce7f6eb",
   "metadata": {},
   "outputs": [
    {
     "data": {
      "text/plain": [
       "0.72"
      ]
     },
     "execution_count": 203,
     "metadata": {},
     "output_type": "execute_result"
    }
   ],
   "source": [
    "absvm= AdaBoostClassifier(n_estimators= 30, estimator=svc, learning_rate=1)\n",
    "absvm.fit(x_test, y_test)\n",
    "absvm.score(x_test, y_test)"
   ]
  },
  {
   "cell_type": "code",
   "execution_count": 205,
   "id": "6778192b-e840-46b4-990c-0ac4d4f4a45b",
   "metadata": {},
   "outputs": [
    {
     "name": "stdout",
     "output_type": "stream",
     "text": [
      "              precision    recall  f1-score   support\n",
      "\n",
      "       drugA       0.00      0.00      0.00         4\n",
      "       drugB       0.00      0.00      0.00         5\n",
      "       drugC       0.00      0.00      0.00         4\n",
      "       drugX       0.54      0.94      0.68        16\n",
      "       drugY       0.95      1.00      0.98        21\n",
      "\n",
      "    accuracy                           0.72        50\n",
      "   macro avg       0.30      0.39      0.33        50\n",
      "weighted avg       0.57      0.72      0.63        50\n",
      "\n"
     ]
    }
   ],
   "source": [
    "y_pred4= absvm.predict(x_test)\n",
    "print(classification_report(y_test, y_pred4))"
   ]
  }
 ],
 "metadata": {
  "kernelspec": {
   "display_name": "Python [conda env:Orange]",
   "language": "python",
   "name": "conda-env-Orange-py"
  },
  "language_info": {
   "codemirror_mode": {
    "name": "ipython",
    "version": 3
   },
   "file_extension": ".py",
   "mimetype": "text/x-python",
   "name": "python",
   "nbconvert_exporter": "python",
   "pygments_lexer": "ipython3",
   "version": "3.11.8"
  }
 },
 "nbformat": 4,
 "nbformat_minor": 5
}
