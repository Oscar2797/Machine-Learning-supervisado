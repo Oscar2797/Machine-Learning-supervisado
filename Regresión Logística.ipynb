{
 "cells": [
  {
   "cell_type": "code",
   "execution_count": 11,
   "id": "b801ac5b-4bb6-4d85-b430-f6ed0b456d45",
   "metadata": {},
   "outputs": [],
   "source": [
    "import pandas as pd\n",
    "import numpy as np\n",
    "from sklearn.model_selection import train_test_split\n",
    "from sklearn.linear_model import LogisticRegression\n",
    "from sklearn.metrics import classification_report\n",
    "\n",
    "import warnings\n",
    "warnings.filterwarnings (\"ignore\")\n",
    "\n",
    "import os\n",
    "os.chdir(\"C:/Users/odela/Downloads\")"
   ]
  },
  {
   "cell_type": "code",
   "execution_count": 13,
   "id": "97808c2b-3dce-4b5c-9ca5-7d37c8d514e6",
   "metadata": {},
   "outputs": [
    {
     "data": {
      "text/html": [
       "<div>\n",
       "<style scoped>\n",
       "    .dataframe tbody tr th:only-of-type {\n",
       "        vertical-align: middle;\n",
       "    }\n",
       "\n",
       "    .dataframe tbody tr th {\n",
       "        vertical-align: top;\n",
       "    }\n",
       "\n",
       "    .dataframe thead th {\n",
       "        text-align: right;\n",
       "    }\n",
       "</style>\n",
       "<table border=\"1\" class=\"dataframe\">\n",
       "  <thead>\n",
       "    <tr style=\"text-align: right;\">\n",
       "      <th></th>\n",
       "      <th>Pregnancies</th>\n",
       "      <th>Glucose</th>\n",
       "      <th>BloodPressure</th>\n",
       "      <th>SkinThickness</th>\n",
       "      <th>Insulin</th>\n",
       "      <th>BMI</th>\n",
       "      <th>DiabetesPedigreeFunction</th>\n",
       "      <th>Age</th>\n",
       "      <th>Outcome</th>\n",
       "    </tr>\n",
       "  </thead>\n",
       "  <tbody>\n",
       "    <tr>\n",
       "      <th>0</th>\n",
       "      <td>6</td>\n",
       "      <td>148</td>\n",
       "      <td>72</td>\n",
       "      <td>35</td>\n",
       "      <td>0</td>\n",
       "      <td>33.6</td>\n",
       "      <td>0.627</td>\n",
       "      <td>50</td>\n",
       "      <td>1</td>\n",
       "    </tr>\n",
       "    <tr>\n",
       "      <th>1</th>\n",
       "      <td>1</td>\n",
       "      <td>85</td>\n",
       "      <td>66</td>\n",
       "      <td>29</td>\n",
       "      <td>0</td>\n",
       "      <td>26.6</td>\n",
       "      <td>0.351</td>\n",
       "      <td>31</td>\n",
       "      <td>0</td>\n",
       "    </tr>\n",
       "    <tr>\n",
       "      <th>2</th>\n",
       "      <td>8</td>\n",
       "      <td>183</td>\n",
       "      <td>64</td>\n",
       "      <td>0</td>\n",
       "      <td>0</td>\n",
       "      <td>23.3</td>\n",
       "      <td>0.672</td>\n",
       "      <td>32</td>\n",
       "      <td>1</td>\n",
       "    </tr>\n",
       "    <tr>\n",
       "      <th>3</th>\n",
       "      <td>1</td>\n",
       "      <td>89</td>\n",
       "      <td>66</td>\n",
       "      <td>23</td>\n",
       "      <td>94</td>\n",
       "      <td>28.1</td>\n",
       "      <td>0.167</td>\n",
       "      <td>21</td>\n",
       "      <td>0</td>\n",
       "    </tr>\n",
       "    <tr>\n",
       "      <th>4</th>\n",
       "      <td>0</td>\n",
       "      <td>137</td>\n",
       "      <td>40</td>\n",
       "      <td>35</td>\n",
       "      <td>168</td>\n",
       "      <td>43.1</td>\n",
       "      <td>2.288</td>\n",
       "      <td>33</td>\n",
       "      <td>1</td>\n",
       "    </tr>\n",
       "  </tbody>\n",
       "</table>\n",
       "</div>"
      ],
      "text/plain": [
       "   Pregnancies  Glucose  BloodPressure  SkinThickness  Insulin   BMI  \\\n",
       "0            6      148             72             35        0  33.6   \n",
       "1            1       85             66             29        0  26.6   \n",
       "2            8      183             64              0        0  23.3   \n",
       "3            1       89             66             23       94  28.1   \n",
       "4            0      137             40             35      168  43.1   \n",
       "\n",
       "   DiabetesPedigreeFunction  Age  Outcome  \n",
       "0                     0.627   50        1  \n",
       "1                     0.351   31        0  \n",
       "2                     0.672   32        1  \n",
       "3                     0.167   21        0  \n",
       "4                     2.288   33        1  "
      ]
     },
     "execution_count": 13,
     "metadata": {},
     "output_type": "execute_result"
    }
   ],
   "source": [
    "prima= pd.read_csv(\"diabetes.csv\")\n",
    "prima.head()"
   ]
  },
  {
   "cell_type": "code",
   "execution_count": 15,
   "id": "f5bf03da-1caa-4ff3-a45f-ce7d88575a4a",
   "metadata": {},
   "outputs": [
    {
     "data": {
      "text/html": [
       "<div>\n",
       "<style scoped>\n",
       "    .dataframe tbody tr th:only-of-type {\n",
       "        vertical-align: middle;\n",
       "    }\n",
       "\n",
       "    .dataframe tbody tr th {\n",
       "        vertical-align: top;\n",
       "    }\n",
       "\n",
       "    .dataframe thead th {\n",
       "        text-align: right;\n",
       "    }\n",
       "</style>\n",
       "<table border=\"1\" class=\"dataframe\">\n",
       "  <thead>\n",
       "    <tr style=\"text-align: right;\">\n",
       "      <th></th>\n",
       "      <th>pregnant</th>\n",
       "      <th>glucose</th>\n",
       "      <th>BP</th>\n",
       "      <th>skin</th>\n",
       "      <th>insulin</th>\n",
       "      <th>BMI</th>\n",
       "      <th>pedigree</th>\n",
       "      <th>Age</th>\n",
       "      <th>label</th>\n",
       "    </tr>\n",
       "  </thead>\n",
       "  <tbody>\n",
       "    <tr>\n",
       "      <th>0</th>\n",
       "      <td>Pregnancies</td>\n",
       "      <td>Glucose</td>\n",
       "      <td>BloodPressure</td>\n",
       "      <td>SkinThickness</td>\n",
       "      <td>Insulin</td>\n",
       "      <td>BMI</td>\n",
       "      <td>DiabetesPedigreeFunction</td>\n",
       "      <td>Age</td>\n",
       "      <td>Outcome</td>\n",
       "    </tr>\n",
       "    <tr>\n",
       "      <th>1</th>\n",
       "      <td>6</td>\n",
       "      <td>148</td>\n",
       "      <td>72</td>\n",
       "      <td>35</td>\n",
       "      <td>0</td>\n",
       "      <td>33.6</td>\n",
       "      <td>0.627</td>\n",
       "      <td>50</td>\n",
       "      <td>1</td>\n",
       "    </tr>\n",
       "    <tr>\n",
       "      <th>2</th>\n",
       "      <td>1</td>\n",
       "      <td>85</td>\n",
       "      <td>66</td>\n",
       "      <td>29</td>\n",
       "      <td>0</td>\n",
       "      <td>26.6</td>\n",
       "      <td>0.351</td>\n",
       "      <td>31</td>\n",
       "      <td>0</td>\n",
       "    </tr>\n",
       "    <tr>\n",
       "      <th>3</th>\n",
       "      <td>8</td>\n",
       "      <td>183</td>\n",
       "      <td>64</td>\n",
       "      <td>0</td>\n",
       "      <td>0</td>\n",
       "      <td>23.3</td>\n",
       "      <td>0.672</td>\n",
       "      <td>32</td>\n",
       "      <td>1</td>\n",
       "    </tr>\n",
       "    <tr>\n",
       "      <th>4</th>\n",
       "      <td>1</td>\n",
       "      <td>89</td>\n",
       "      <td>66</td>\n",
       "      <td>23</td>\n",
       "      <td>94</td>\n",
       "      <td>28.1</td>\n",
       "      <td>0.167</td>\n",
       "      <td>21</td>\n",
       "      <td>0</td>\n",
       "    </tr>\n",
       "  </tbody>\n",
       "</table>\n",
       "</div>"
      ],
      "text/plain": [
       "      pregnant  glucose             BP           skin  insulin   BMI  \\\n",
       "0  Pregnancies  Glucose  BloodPressure  SkinThickness  Insulin   BMI   \n",
       "1            6      148             72             35        0  33.6   \n",
       "2            1       85             66             29        0  26.6   \n",
       "3            8      183             64              0        0  23.3   \n",
       "4            1       89             66             23       94  28.1   \n",
       "\n",
       "                   pedigree  Age    label  \n",
       "0  DiabetesPedigreeFunction  Age  Outcome  \n",
       "1                     0.627   50        1  \n",
       "2                     0.351   31        0  \n",
       "3                     0.672   32        1  \n",
       "4                     0.167   21        0  "
      ]
     },
     "execution_count": 15,
     "metadata": {},
     "output_type": "execute_result"
    }
   ],
   "source": [
    "col_names=[\"pregnant\", \"glucose\", \"BP\", \"skin\",\"insulin\", \"BMI\",\"pedigree\",\"Age\", \"label\"]\n",
    "prima= pd.read_csv(\"diabetes.csv\", header= None, names=col_names)\n",
    "prima.head()"
   ]
  },
  {
   "cell_type": "code",
   "execution_count": 79,
   "id": "d47abb81-c345-4683-aee8-4ce5aa1f1da6",
   "metadata": {},
   "outputs": [
    {
     "data": {
      "text/html": [
       "<div>\n",
       "<style scoped>\n",
       "    .dataframe tbody tr th:only-of-type {\n",
       "        vertical-align: middle;\n",
       "    }\n",
       "\n",
       "    .dataframe tbody tr th {\n",
       "        vertical-align: top;\n",
       "    }\n",
       "\n",
       "    .dataframe thead th {\n",
       "        text-align: right;\n",
       "    }\n",
       "</style>\n",
       "<table border=\"1\" class=\"dataframe\">\n",
       "  <thead>\n",
       "    <tr style=\"text-align: right;\">\n",
       "      <th></th>\n",
       "      <th>pregnant</th>\n",
       "      <th>glucose</th>\n",
       "      <th>BP</th>\n",
       "      <th>skin</th>\n",
       "      <th>insulin</th>\n",
       "      <th>BMI</th>\n",
       "      <th>pedigree</th>\n",
       "      <th>Age</th>\n",
       "      <th>label</th>\n",
       "    </tr>\n",
       "  </thead>\n",
       "  <tbody>\n",
       "    <tr>\n",
       "      <th>1</th>\n",
       "      <td>6</td>\n",
       "      <td>148</td>\n",
       "      <td>72</td>\n",
       "      <td>35</td>\n",
       "      <td>0</td>\n",
       "      <td>33.6</td>\n",
       "      <td>0.627</td>\n",
       "      <td>50</td>\n",
       "      <td>1</td>\n",
       "    </tr>\n",
       "    <tr>\n",
       "      <th>2</th>\n",
       "      <td>1</td>\n",
       "      <td>85</td>\n",
       "      <td>66</td>\n",
       "      <td>29</td>\n",
       "      <td>0</td>\n",
       "      <td>26.6</td>\n",
       "      <td>0.351</td>\n",
       "      <td>31</td>\n",
       "      <td>0</td>\n",
       "    </tr>\n",
       "    <tr>\n",
       "      <th>3</th>\n",
       "      <td>8</td>\n",
       "      <td>183</td>\n",
       "      <td>64</td>\n",
       "      <td>0</td>\n",
       "      <td>0</td>\n",
       "      <td>23.3</td>\n",
       "      <td>0.672</td>\n",
       "      <td>32</td>\n",
       "      <td>1</td>\n",
       "    </tr>\n",
       "    <tr>\n",
       "      <th>4</th>\n",
       "      <td>1</td>\n",
       "      <td>89</td>\n",
       "      <td>66</td>\n",
       "      <td>23</td>\n",
       "      <td>94</td>\n",
       "      <td>28.1</td>\n",
       "      <td>0.167</td>\n",
       "      <td>21</td>\n",
       "      <td>0</td>\n",
       "    </tr>\n",
       "    <tr>\n",
       "      <th>5</th>\n",
       "      <td>0</td>\n",
       "      <td>137</td>\n",
       "      <td>40</td>\n",
       "      <td>35</td>\n",
       "      <td>168</td>\n",
       "      <td>43.1</td>\n",
       "      <td>2.288</td>\n",
       "      <td>33</td>\n",
       "      <td>1</td>\n",
       "    </tr>\n",
       "    <tr>\n",
       "      <th>...</th>\n",
       "      <td>...</td>\n",
       "      <td>...</td>\n",
       "      <td>...</td>\n",
       "      <td>...</td>\n",
       "      <td>...</td>\n",
       "      <td>...</td>\n",
       "      <td>...</td>\n",
       "      <td>...</td>\n",
       "      <td>...</td>\n",
       "    </tr>\n",
       "    <tr>\n",
       "      <th>764</th>\n",
       "      <td>10</td>\n",
       "      <td>101</td>\n",
       "      <td>76</td>\n",
       "      <td>48</td>\n",
       "      <td>180</td>\n",
       "      <td>32.9</td>\n",
       "      <td>0.171</td>\n",
       "      <td>63</td>\n",
       "      <td>0</td>\n",
       "    </tr>\n",
       "    <tr>\n",
       "      <th>765</th>\n",
       "      <td>2</td>\n",
       "      <td>122</td>\n",
       "      <td>70</td>\n",
       "      <td>27</td>\n",
       "      <td>0</td>\n",
       "      <td>36.8</td>\n",
       "      <td>0.34</td>\n",
       "      <td>27</td>\n",
       "      <td>0</td>\n",
       "    </tr>\n",
       "    <tr>\n",
       "      <th>766</th>\n",
       "      <td>5</td>\n",
       "      <td>121</td>\n",
       "      <td>72</td>\n",
       "      <td>23</td>\n",
       "      <td>112</td>\n",
       "      <td>26.2</td>\n",
       "      <td>0.245</td>\n",
       "      <td>30</td>\n",
       "      <td>0</td>\n",
       "    </tr>\n",
       "    <tr>\n",
       "      <th>767</th>\n",
       "      <td>1</td>\n",
       "      <td>126</td>\n",
       "      <td>60</td>\n",
       "      <td>0</td>\n",
       "      <td>0</td>\n",
       "      <td>30.1</td>\n",
       "      <td>0.349</td>\n",
       "      <td>47</td>\n",
       "      <td>1</td>\n",
       "    </tr>\n",
       "    <tr>\n",
       "      <th>768</th>\n",
       "      <td>1</td>\n",
       "      <td>93</td>\n",
       "      <td>70</td>\n",
       "      <td>31</td>\n",
       "      <td>0</td>\n",
       "      <td>30.4</td>\n",
       "      <td>0.315</td>\n",
       "      <td>23</td>\n",
       "      <td>0</td>\n",
       "    </tr>\n",
       "  </tbody>\n",
       "</table>\n",
       "<p>768 rows × 9 columns</p>\n",
       "</div>"
      ],
      "text/plain": [
       "    pregnant glucose  BP skin insulin   BMI pedigree Age label\n",
       "1          6     148  72   35       0  33.6    0.627  50     1\n",
       "2          1      85  66   29       0  26.6    0.351  31     0\n",
       "3          8     183  64    0       0  23.3    0.672  32     1\n",
       "4          1      89  66   23      94  28.1    0.167  21     0\n",
       "5          0     137  40   35     168  43.1    2.288  33     1\n",
       "..       ...     ...  ..  ...     ...   ...      ...  ..   ...\n",
       "764       10     101  76   48     180  32.9    0.171  63     0\n",
       "765        2     122  70   27       0  36.8     0.34  27     0\n",
       "766        5     121  72   23     112  26.2    0.245  30     0\n",
       "767        1     126  60    0       0  30.1    0.349  47     1\n",
       "768        1      93  70   31       0  30.4    0.315  23     0\n",
       "\n",
       "[768 rows x 9 columns]"
      ]
     },
     "execution_count": 79,
     "metadata": {},
     "output_type": "execute_result"
    }
   ],
   "source": [
    "df= prima.iloc[1:]\n",
    "df"
   ]
  },
  {
   "cell_type": "code",
   "execution_count": 97,
   "id": "de7fca7e-475d-4940-9887-ccde0efaec9c",
   "metadata": {},
   "outputs": [],
   "source": [
    "# Selección características \n",
    "\n",
    "feature_cols= [\"pregnant\",\"insulin\", \"BMI\",\"Age\",\"glucose\", \"BP\",\"pedigree\"]\n",
    "x=df[feature_cols]\n",
    "y=df.label"
   ]
  },
  {
   "cell_type": "code",
   "execution_count": 23,
   "id": "03afb67e-2159-469e-84c2-e6eca12e34ea",
   "metadata": {},
   "outputs": [],
   "source": [
    "# Creación base de entrenamiento y prueba\n",
    "\n",
    "x_train, x_test, y_train, y_test= train_test_split(x,y, test_size=.2, random_state=1)"
   ]
  },
  {
   "cell_type": "code",
   "execution_count": 25,
   "id": "285abe3b-2ca3-4bf6-bd1e-03f990bef366",
   "metadata": {},
   "outputs": [],
   "source": [
    "# sag: Stochastic Average Gradient\n",
    "# newton-cgb: Newton\n",
    "# liblinear: Library for large linear classifications (Algoritmo coordiante descent)\n",
    "# saga: variante del método sag\n",
    "# lbfgs: Limited-memory Broyden-Fletcher-Goldfarb-Shanno Algorythm"
   ]
  },
  {
   "cell_type": "markdown",
   "id": "51aa940e-54f4-42ac-8f98-438a49dad47f",
   "metadata": {},
   "source": [
    "# Regresión logística con solucionador SAG"
   ]
  },
  {
   "cell_type": "code",
   "execution_count": 28,
   "id": "41be6873-0c00-4d02-8899-91894613e7aa",
   "metadata": {},
   "outputs": [],
   "source": [
    "model= LogisticRegression( solver= \"sag\")\n",
    "clf= model.fit(x_train, y_train)"
   ]
  },
  {
   "cell_type": "code",
   "execution_count": 30,
   "id": "bf07b8d6-77ae-4018-9cc3-57f81e7fd028",
   "metadata": {},
   "outputs": [
    {
     "name": "stdout",
     "output_type": "stream",
     "text": [
      "Intercepto (Beta 0) [-0.01187999]\n",
      "Pesos de cada variable (Beta 1, Beta2,....,Beta 7 [[ 0.05171432  0.00116679 -0.00942072 -0.00225975  0.01407773 -0.03083477\n",
      "   0.00100798]]\n"
     ]
    }
   ],
   "source": [
    "# Predicción de etiquetas de clase sobre datos de prueba\n",
    "\n",
    "y_predict= clf.predict(x_test)\n",
    "\n",
    "# Impresión de coeficientes de la regresión de puntajes\n",
    "\n",
    "print(\"Intercepto (Beta 0)\", clf.intercept_)\n",
    "print(\"Pesos de cada variable (Beta 1, Beta2,....,Beta 7\", clf.coef_)"
   ]
  },
  {
   "cell_type": "code",
   "execution_count": 32,
   "id": "5b2bab88-079a-4662-b8ad-99b860370dcb",
   "metadata": {},
   "outputs": [
    {
     "name": "stdout",
     "output_type": "stream",
     "text": [
      "Score de precisión: 0.6428571428571429\n"
     ]
    }
   ],
   "source": [
    "# Evaluación de precisión del modelo\n",
    "\n",
    "score= model.score(x_test, y_test)\n",
    "print(\"Score de precisión:\",score)"
   ]
  },
  {
   "cell_type": "code",
   "execution_count": 38,
   "id": "ec0c467e-8011-4e3e-9981-9925de7de826",
   "metadata": {},
   "outputs": [
    {
     "name": "stdout",
     "output_type": "stream",
     "text": [
      "              precision    recall  f1-score   support\n",
      "\n",
      "           0       0.67      0.89      0.76        99\n",
      "           1       0.50      0.20      0.29        55\n",
      "\n",
      "    accuracy                           0.64       154\n",
      "   macro avg       0.58      0.54      0.52       154\n",
      "weighted avg       0.61      0.64      0.59       154\n",
      "\n"
     ]
    }
   ],
   "source": [
    "# Reporte de calsificación\n",
    "\n",
    "print( classification_report(y_test,y_predict))"
   ]
  },
  {
   "cell_type": "markdown",
   "id": "a8abbb8c-a78e-4c7e-abe7-f4b3d555468d",
   "metadata": {},
   "source": [
    "# Regresión logística con solucionador: Newton-cg"
   ]
  },
  {
   "cell_type": "code",
   "execution_count": 48,
   "id": "a413db9a-fc22-467e-88bb-919af29399a9",
   "metadata": {},
   "outputs": [
    {
     "name": "stdout",
     "output_type": "stream",
     "text": [
      "Intercepto (Beta 0) [-8.09039853]\n",
      "Pesos de cada variable (Beta 1, Beta2,....,Beta 7 [[ 0.12709255 -0.0009588   0.08544661  0.01165698  0.03653224 -0.01510504\n",
      "   0.63074257]]\n",
      "------------------------------------------------------------------------------------------------------------------\n",
      "Score de precisión: 0.7727272727272727\n",
      "------------------------------------------------------------------------------------------------------------------\n",
      "              precision    recall  f1-score   support\n",
      "\n",
      "           0       0.78      0.90      0.84        99\n",
      "           1       0.75      0.55      0.63        55\n",
      "\n",
      "    accuracy                           0.77       154\n",
      "   macro avg       0.77      0.72      0.73       154\n",
      "weighted avg       0.77      0.77      0.76       154\n",
      "\n"
     ]
    }
   ],
   "source": [
    "model= LogisticRegression( solver= \"newton-cg\")\n",
    "clf= model.fit(x_train, y_train)\n",
    "\n",
    "y_predict= clf.predict(x_test)\n",
    "\n",
    "print(\"Intercepto (Beta 0)\", clf.intercept_)\n",
    "print(\"Pesos de cada variable (Beta 1, Beta2,....,Beta 7\", clf.coef_)\n",
    "print(\"------------------------------------------------------------------------------------------------------------------\")\n",
    "score= model.score(x_test, y_test)\n",
    "\n",
    "print(\"Score de precisión:\",score)\n",
    "print(\"------------------------------------------------------------------------------------------------------------------\")\n",
    "print(classification_report(y_test, y_predict))\n"
   ]
  },
  {
   "cell_type": "markdown",
   "id": "b0770043-f6a6-41ce-9b78-4f314b3e5635",
   "metadata": {},
   "source": [
    "# Regresión logística con solucionador: liblinear"
   ]
  },
  {
   "cell_type": "code",
   "execution_count": 52,
   "id": "607b8287-1c10-4d1a-98b1-014122c649ef",
   "metadata": {},
   "outputs": [
    {
     "name": "stdout",
     "output_type": "stream",
     "text": [
      "Intercepto (Beta 0) [-5.37998517]\n",
      "Pesos de cada variable (Beta 1, Beta2,....,Beta 7 [[ 1.18842024e-01 -3.17159489e-04  5.28253775e-02  3.80510423e-03\n",
      "   2.87926631e-02 -1.90993839e-02  4.74826699e-01]]\n",
      "------------------------------------------------------------------------------------------------------------------\n",
      "Score de precisión: 0.7662337662337663\n",
      "------------------------------------------------------------------------------------------------------------------\n",
      "              precision    recall  f1-score   support\n",
      "\n",
      "           0       0.77      0.90      0.83        99\n",
      "           1       0.74      0.53      0.62        55\n",
      "\n",
      "    accuracy                           0.77       154\n",
      "   macro avg       0.76      0.71      0.72       154\n",
      "weighted avg       0.76      0.77      0.76       154\n",
      "\n"
     ]
    }
   ],
   "source": [
    "model= LogisticRegression( solver= \"liblinear\")\n",
    "clf= model.fit(x_train, y_train)\n",
    "\n",
    "y_predict= clf.predict(x_test)\n",
    "\n",
    "print(\"Intercepto (Beta 0)\", clf.intercept_)\n",
    "print(\"Pesos de cada variable (Beta 1, Beta2,....,Beta 7\", clf.coef_)\n",
    "print(\"------------------------------------------------------------------------------------------------------------------\")\n",
    "score= model.score(x_test, y_test)\n",
    "\n",
    "print(\"Score de precisión:\",score)\n",
    "print(\"------------------------------------------------------------------------------------------------------------------\")\n",
    "print(classification_report(y_test, y_predict))"
   ]
  },
  {
   "cell_type": "markdown",
   "id": "15be1dbe-0a54-43ea-8109-990a2ed06535",
   "metadata": {},
   "source": [
    "# Regresión logística con solucionador: saga"
   ]
  },
  {
   "cell_type": "code",
   "execution_count": 57,
   "id": "08d76e1d-fe20-4a0d-9aeb-9ef0bc92b850",
   "metadata": {},
   "outputs": [
    {
     "name": "stdout",
     "output_type": "stream",
     "text": [
      "Intercepto (Beta 0) [-0.00610789]\n",
      "Pesos de cada variable (Beta 1, Beta2,....,Beta 7 [[ 0.03024581  0.00115489 -0.00937949  0.00092794  0.01387862 -0.0308575\n",
      "   0.00052799]]\n",
      "------------------------------------------------------------------------------------------------------------------\n",
      "Score de precisión: 0.6493506493506493\n",
      "------------------------------------------------------------------------------------------------------------------\n",
      "              precision    recall  f1-score   support\n",
      "\n",
      "           0       0.67      0.89      0.77        99\n",
      "           1       0.52      0.22      0.31        55\n",
      "\n",
      "    accuracy                           0.65       154\n",
      "   macro avg       0.60      0.55      0.54       154\n",
      "weighted avg       0.62      0.65      0.60       154\n",
      "\n"
     ]
    }
   ],
   "source": [
    "model= LogisticRegression( solver= \"saga\")\n",
    "clf= model.fit(x_train, y_train)\n",
    "\n",
    "y_predict= clf.predict(x_test)\n",
    "\n",
    "print(\"Intercepto (Beta 0)\", clf.intercept_)\n",
    "print(\"Pesos de cada variable (Beta 1, Beta2,....,Beta 7\", clf.coef_)\n",
    "print(\"------------------------------------------------------------------------------------------------------------------\")\n",
    "score= model.score(x_test, y_test)\n",
    "\n",
    "print(\"Score de precisión:\",score)\n",
    "print(\"------------------------------------------------------------------------------------------------------------------\")\n",
    "print(classification_report(y_test, y_predict))"
   ]
  },
  {
   "cell_type": "markdown",
   "id": "d8c9b006-0d6b-44b2-bb7e-10c566aa9996",
   "metadata": {},
   "source": [
    "# Regresión logística con solucionador: lbfgs"
   ]
  },
  {
   "cell_type": "code",
   "execution_count": 61,
   "id": "fcc6c792-6465-4c9d-9816-9ab08c818d4b",
   "metadata": {},
   "outputs": [
    {
     "name": "stdout",
     "output_type": "stream",
     "text": [
      "Intercepto (Beta 0) [-8.10386732]\n",
      "Pesos de cada variable (Beta 1, Beta2,....,Beta 7 [[ 0.12715688 -0.00096268  0.08559416  0.01168204  0.03657091 -0.01508633\n",
      "   0.63352539]]\n",
      "------------------------------------------------------------------------------------------------------------------\n",
      "Score de precisión: 0.7727272727272727\n",
      "------------------------------------------------------------------------------------------------------------------\n",
      "              precision    recall  f1-score   support\n",
      "\n",
      "           0       0.78      0.90      0.84        99\n",
      "           1       0.75      0.55      0.63        55\n",
      "\n",
      "    accuracy                           0.77       154\n",
      "   macro avg       0.77      0.72      0.73       154\n",
      "weighted avg       0.77      0.77      0.76       154\n",
      "\n"
     ]
    }
   ],
   "source": [
    "model= LogisticRegression( solver= \"lbfgs\")\n",
    "clf= model.fit(x_train, y_train)\n",
    "\n",
    "y_predict= clf.predict(x_test)\n",
    "\n",
    "print(\"Intercepto (Beta 0)\", clf.intercept_)\n",
    "print(\"Pesos de cada variable (Beta 1, Beta2,....,Beta 7\", clf.coef_)\n",
    "print(\"------------------------------------------------------------------------------------------------------------------\")\n",
    "score= model.score(x_test, y_test)\n",
    "\n",
    "print(\"Score de precisión:\",score)\n",
    "print(\"------------------------------------------------------------------------------------------------------------------\")\n",
    "print(classification_report(y_test, y_predict))"
   ]
  },
  {
   "cell_type": "code",
   "execution_count": 99,
   "id": "8e128f43-ba30-4042-8bdd-bd334437881f",
   "metadata": {},
   "outputs": [
    {
     "data": {
      "text/plain": [
       "array([0.4365067 , 0.31967427, 0.15787816, 0.04340148, 0.19968388])"
      ]
     },
     "execution_count": 99,
     "metadata": {},
     "output_type": "execute_result"
    }
   ],
   "source": [
    "# Predicción de probabilidades para casos particulares (los 5 son ceros, ya que no son mayores de .5)\n",
    "\n",
    "y_pred_probs= clf.predict_proba(x_test)[:,1]\n",
    "y_pred_probs[0:5]"
   ]
  },
  {
   "cell_type": "code",
   "execution_count": 101,
   "id": "6a7d0d59-95a3-45f9-9d61-8b731e9d71e2",
   "metadata": {},
   "outputs": [
    {
     "data": {
      "text/plain": [
       "286    0\n",
       "102    0\n",
       "582    0\n",
       "353    0\n",
       "727    0\n",
       "Name: label, dtype: object"
      ]
     },
     "execution_count": 101,
     "metadata": {},
     "output_type": "execute_result"
    }
   ],
   "source": [
    "y_test[0:5]"
   ]
  },
  {
   "cell_type": "code",
   "execution_count": 103,
   "id": "80e82767-ebb9-4ada-82c4-eaf03804b3e2",
   "metadata": {},
   "outputs": [
    {
     "data": {
      "text/plain": [
       "array(['0', '0', '0', '0', '0'], dtype=object)"
      ]
     },
     "execution_count": 103,
     "metadata": {},
     "output_type": "execute_result"
    }
   ],
   "source": [
    "# conversión de valores de texto a numéricos para poder graficar \n",
    "y_test= y_test.to_numpy()\n",
    "y_test[0:5]"
   ]
  },
  {
   "cell_type": "code",
   "execution_count": 109,
   "id": "1d6f33fe-463d-4662-8cce-ac12c9357c7a",
   "metadata": {},
   "outputs": [
    {
     "data": {
      "text/plain": [
       "[0, 0, 0, 0, 0]"
      ]
     },
     "execution_count": 109,
     "metadata": {},
     "output_type": "execute_result"
    }
   ],
   "source": [
    "# valores ya numéricos\n",
    "y_test= [int(numeric_string) for numeric_string in y_test]\n",
    "y_test[0:5]"
   ]
  },
  {
   "cell_type": "code",
   "execution_count": 111,
   "id": "b40ae714-cc01-4943-81a7-84cc5c00dae4",
   "metadata": {},
   "outputs": [
    {
     "data": {
      "text/plain": [
       "array([0., 0., 0., 0., 0.])"
      ]
     },
     "execution_count": 111,
     "metadata": {},
     "output_type": "execute_result"
    }
   ],
   "source": [
    "\n",
    "y_pred_probs= np.round(y_pred_probs,0)\n",
    "y_pred_probs[0:5]"
   ]
  },
  {
   "cell_type": "code",
   "execution_count": 117,
   "id": "0b22d64c-6cac-49f5-92d0-ef5058441035",
   "metadata": {},
   "outputs": [],
   "source": [
    "# Graficación de la curva ROC y cálculo del área bajo ella\n",
    "\n",
    "import matplotlib.pyplot as plt\n",
    "\n",
    "from sklearn.metrics import roc_curve\n",
    "from sklearn.metrics import roc_auc_score\n",
    "# fpr = false positive rate\n",
    "# tpr= true positive rate\n",
    "# thresholds= límites para valores de p\n",
    "fpr, tpr, thesholds=roc_curve( y_test, y_pred_probs)\n",
    "auc= roc_auc_score(y_test, y_pred_probs)"
   ]
  },
  {
   "cell_type": "code",
   "execution_count": 121,
   "id": "f71bad27-12ac-4a43-84b1-fc3689289267",
   "metadata": {},
   "outputs": [
    {
     "data": {
      "text/plain": [
       "Text(0.5, 1.0, 'Curva ROC para regresión logísitica')"
      ]
     },
     "execution_count": 121,
     "metadata": {},
     "output_type": "execute_result"
    },
    {
     "data": {
      "image/png": "[encoded data removed]",
      "text/plain": [
       "<Figure size 640x480 with 1 Axes>"
      ]
     },
     "metadata": {},
     "output_type": "display_data"
    }
   ],
   "source": [
    "plt.plot([0,1],[0,1],\"k--\")\n",
    "plt.plot(fpr,tpr, marker=\".\", label= \"Curva ROC (area= %.2f)\" %auc)\n",
    "plt.xlabel(\"Tasa de falsos positivos\")#False positive rate\n",
    "plt.ylabel(\"Tasa de verdaderos positivos\")#true positive rate\n",
    "plt.legend( loc=\"lower right\")\n",
    "plt.title(\"Curva ROC para regresión logísitica\")"
   ]
  },
  {
   "cell_type": "code",
   "execution_count": null,
   "id": "76d47318-59f5-475e-89c4-ac4995b49151",
   "metadata": {},
   "outputs": [],
   "source": []
  }
 ],
 "metadata": {
  "kernelspec": {
   "display_name": "Python [conda env:Orange]",
   "language": "python",
   "name": "conda-env-Orange-py"
  },
  "language_info": {
   "codemirror_mode": {
    "name": "ipython",
    "version": 3
   },
   "file_extension": ".py",
   "mimetype": "text/x-python",
   "name": "python",
   "nbconvert_exporter": "python",
   "pygments_lexer": "ipython3",
   "version": "3.11.8"
  }
 },
 "nbformat": 4,
 "nbformat_minor": 5
}
